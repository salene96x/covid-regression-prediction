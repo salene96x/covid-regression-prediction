{
 "cells": [
  {
   "cell_type": "code",
   "execution_count": 3,
   "id": "3a0eed7b-a0e9-4653-a191-0166e295d95c",
   "metadata": {},
   "outputs": [
    {
     "name": "stdout",
     "output_type": "stream",
     "text": [
      "The autoreload extension is already loaded. To reload it, use:\n",
      "  %reload_ext autoreload\n"
     ]
    }
   ],
   "source": [
    "%load_ext autoreload\n",
    "%autoreload 2"
   ]
  },
  {
   "cell_type": "code",
   "execution_count": 14,
   "id": "a044b90e-4618-4764-8b9d-43dda54a4b41",
   "metadata": {},
   "outputs": [],
   "source": [
    "import pandas as pd\n",
    "import numpy as np\n",
    "from new_etl import covid_etl"
   ]
  },
  {
   "cell_type": "code",
   "execution_count": 9,
   "id": "238d611c-ca7d-4fe1-af81-353da2d25505",
   "metadata": {},
   "outputs": [],
   "source": [
    "pd.set_option(\"display.max_rows\", 100)"
   ]
  },
  {
   "cell_type": "code",
   "execution_count": 5,
   "id": "55a47df1-d415-41a8-bc97-88e5009e0b3f",
   "metadata": {},
   "outputs": [],
   "source": [
    "df = pd.read_csv('/usr/src/covid_prediction/our-world-in-data-covid19-dataset/owid-covid-data.csv')"
   ]
  },
  {
   "cell_type": "code",
   "execution_count": 11,
   "id": "3f4270ea-1439-471b-a9c5-8f6c76f066ae",
   "metadata": {},
   "outputs": [],
   "source": [
    "df = df.loc[df['location'] == 'Thailand']"
   ]
  },
  {
   "cell_type": "code",
   "execution_count": 13,
   "id": "bd9a43c9-baf9-437a-8a41-627638e02e4a",
   "metadata": {},
   "outputs": [
    {
     "data": {
      "text/plain": [
       "iso_code                                        0\n",
       "continent                                       0\n",
       "location                                        0\n",
       "date                                            0\n",
       "total_cases                                    18\n",
       "new_cases                                      21\n",
       "new_cases_smoothed                             26\n",
       "total_deaths                                   57\n",
       "new_deaths                                     58\n",
       "new_deaths_smoothed                            63\n",
       "total_cases_per_million                        18\n",
       "new_cases_per_million                          21\n",
       "new_cases_smoothed_per_million                 26\n",
       "total_deaths_per_million                       57\n",
       "new_deaths_per_million                         58\n",
       "new_deaths_smoothed_per_million                63\n",
       "reproduction_rate                              74\n",
       "icu_patients                                  944\n",
       "icu_patients_per_million                      944\n",
       "hosp_patients                                 944\n",
       "hosp_patients_per_million                     944\n",
       "weekly_icu_admissions                         944\n",
       "weekly_icu_admissions_per_million             944\n",
       "weekly_hosp_admissions                        944\n",
       "weekly_hosp_admissions_per_million            944\n",
       "total_tests                                    62\n",
       "new_tests                                      62\n",
       "total_tests_per_thousand                       62\n",
       "new_tests_per_thousand                         62\n",
       "new_tests_smoothed                             68\n",
       "new_tests_smoothed_per_thousand                68\n",
       "positive_rate                                  86\n",
       "tests_per_case                                 87\n",
       "tests_units                                    61\n",
       "total_vaccinations                            467\n",
       "people_vaccinated                             467\n",
       "people_fully_vaccinated                       472\n",
       "total_boosters                                596\n",
       "new_vaccinations                              482\n",
       "new_vaccinations_smoothed                     422\n",
       "total_vaccinations_per_hundred                467\n",
       "people_vaccinated_per_hundred                 467\n",
       "people_fully_vaccinated_per_hundred           472\n",
       "total_boosters_per_hundred                    596\n",
       "new_vaccinations_smoothed_per_million         422\n",
       "new_people_vaccinated_smoothed                422\n",
       "new_people_vaccinated_smoothed_per_hundred    422\n",
       "stringency_index                               16\n",
       "population                                      0\n",
       "population_density                              0\n",
       "median_age                                      0\n",
       "aged_65_older                                   0\n",
       "aged_70_older                                   0\n",
       "gdp_per_capita                                  0\n",
       "extreme_poverty                                 0\n",
       "cardiovasc_death_rate                           0\n",
       "diabetes_prevalence                             0\n",
       "female_smokers                                  0\n",
       "male_smokers                                    0\n",
       "handwashing_facilities                          0\n",
       "hospital_beds_per_thousand                      0\n",
       "life_expectancy                                 0\n",
       "human_development_index                         0\n",
       "excess_mortality_cumulative_absolute          914\n",
       "excess_mortality_cumulative                   914\n",
       "excess_mortality                              914\n",
       "excess_mortality_cumulative_per_million       914\n",
       "dtype: int64"
      ]
     },
     "execution_count": 13,
     "metadata": {},
     "output_type": "execute_result"
    }
   ],
   "source": [
    "df.isna().sum()"
   ]
  },
  {
   "cell_type": "code",
   "execution_count": 15,
   "id": "8f3c14ad-947d-4d0d-9238-18edf50c6759",
   "metadata": {},
   "outputs": [],
   "source": [
    "covid_etl = covid_etl('/usr/src/covid_prediction/our-world-in-data-covid19-dataset/owid-covid-data.csv')"
   ]
  },
  {
   "cell_type": "code",
   "execution_count": 94,
   "id": "67701027-7b0c-4364-bcdf-a4965d6f6c7f",
   "metadata": {},
   "outputs": [],
   "source": [
    "done_etl_df = covid_etl.do()"
   ]
  },
  {
   "cell_type": "code",
   "execution_count": 28,
   "id": "c8af6d22-622b-4707-963f-7e9f1c57dca0",
   "metadata": {},
   "outputs": [],
   "source": [
    "pd.set_option('display.max_rows', 500)"
   ]
  },
  {
   "cell_type": "code",
   "execution_count": 81,
   "id": "19cfe753-a59a-4474-981d-15023a7f8d45",
   "metadata": {},
   "outputs": [
    {
     "data": {
      "text/plain": [
       "Series([], Name: date, dtype: datetime64[ns])"
      ]
     },
     "execution_count": 81,
     "metadata": {},
     "output_type": "execute_result"
    }
   ],
   "source": [
    "done_etl_df['date'].loc[done_etl_df['total_vaccinations'].isnull()]"
   ]
  },
  {
   "cell_type": "code",
   "execution_count": 80,
   "id": "09e1dbb7-dadb-4ce3-8b0c-cb3848a46ca7",
   "metadata": {},
   "outputs": [
    {
     "data": {
      "text/plain": [
       "Series([], Name: date, dtype: datetime64[ns])"
      ]
     },
     "execution_count": 80,
     "metadata": {},
     "output_type": "execute_result"
    }
   ],
   "source": [
    "done_etl_df['date'].loc[done_etl_df['total_cases'].isnull()]"
   ]
  },
  {
   "cell_type": "code",
   "execution_count": 88,
   "id": "83652f30-dba2-4bbf-97cc-88bc103d37fc",
   "metadata": {},
   "outputs": [
    {
     "data": {
      "text/plain": [
       "array([1])"
      ]
     },
     "execution_count": 88,
     "metadata": {},
     "output_type": "execute_result"
    }
   ],
   "source": [
    "done_etl_df['tests_units'].loc[done_etl_df['tests_units'].notnull()].unique()"
   ]
  },
  {
   "cell_type": "code",
   "execution_count": 96,
   "id": "106b0c6f-c2d1-4828-bc3f-cd41d6e18803",
   "metadata": {},
   "outputs": [
    {
     "data": {
      "text/plain": [
       "date                                            0\n",
       "iso_code                                        0\n",
       "continent                                       0\n",
       "location                                        0\n",
       "total_cases                                     0\n",
       "new_cases                                       0\n",
       "new_cases_smoothed                             26\n",
       "total_deaths                                   57\n",
       "new_deaths                                     58\n",
       "new_deaths_smoothed                            63\n",
       "total_cases_per_million                        18\n",
       "new_cases_per_million                          21\n",
       "new_cases_smoothed_per_million                 26\n",
       "total_deaths_per_million                       57\n",
       "new_deaths_per_million                         58\n",
       "new_deaths_smoothed_per_million                63\n",
       "reproduction_rate                              74\n",
       "total_tests                                    62\n",
       "new_tests                                      62\n",
       "total_tests_per_thousand                       62\n",
       "new_tests_per_thousand                         62\n",
       "new_tests_smoothed                             68\n",
       "new_tests_smoothed_per_thousand                68\n",
       "positive_rate                                  86\n",
       "tests_per_case                                 87\n",
       "tests_units                                     0\n",
       "total_vaccinations                              0\n",
       "people_vaccinated                             467\n",
       "people_fully_vaccinated                       472\n",
       "total_boosters                                596\n",
       "new_vaccinations                              482\n",
       "new_vaccinations_smoothed                     422\n",
       "total_vaccinations_per_hundred                467\n",
       "people_vaccinated_per_hundred                 467\n",
       "people_fully_vaccinated_per_hundred           472\n",
       "total_boosters_per_hundred                    596\n",
       "new_vaccinations_smoothed_per_million         422\n",
       "new_people_vaccinated_smoothed                422\n",
       "new_people_vaccinated_smoothed_per_hundred    422\n",
       "stringency_index                               16\n",
       "population                                      0\n",
       "population_density                              0\n",
       "median_age                                      0\n",
       "aged_65_older                                   0\n",
       "aged_70_older                                   0\n",
       "gdp_per_capita                                  0\n",
       "extreme_poverty                                 0\n",
       "cardiovasc_death_rate                           0\n",
       "diabetes_prevalence                             0\n",
       "female_smokers                                  0\n",
       "male_smokers                                    0\n",
       "handwashing_facilities                          0\n",
       "hospital_beds_per_thousand                      0\n",
       "life_expectancy                                 0\n",
       "human_development_index                         0\n",
       "dtype: int64"
      ]
     },
     "execution_count": 96,
     "metadata": {},
     "output_type": "execute_result"
    }
   ],
   "source": [
    "done_etl_df.isna().sum()"
   ]
  },
  {
   "cell_type": "code",
   "execution_count": 98,
   "id": "f1c9dc0c-e6f5-4e66-8d3c-3777226789f4",
   "metadata": {},
   "outputs": [
    {
     "data": {
      "text/plain": [
       "0     2020-01-04\n",
       "1     2020-01-05\n",
       "2     2020-01-06\n",
       "3     2020-01-07\n",
       "4     2020-01-08\n",
       "5     2020-01-09\n",
       "6     2020-01-10\n",
       "7     2020-01-11\n",
       "8     2020-01-12\n",
       "9     2020-01-13\n",
       "10    2020-01-14\n",
       "11    2020-01-15\n",
       "12    2020-01-16\n",
       "13    2020-01-17\n",
       "14    2020-01-18\n",
       "15    2020-01-19\n",
       "16    2020-01-20\n",
       "17    2020-01-21\n",
       "18    2020-01-22\n",
       "19    2020-01-23\n",
       "20    2020-01-24\n",
       "21    2020-01-25\n",
       "22    2020-01-26\n",
       "23    2020-01-27\n",
       "200   2020-07-22\n",
       "869   2022-05-22\n",
       "Name: date, dtype: datetime64[ns]"
      ]
     },
     "execution_count": 98,
     "metadata": {},
     "output_type": "execute_result"
    }
   ],
   "source": [
    "done_etl_df['date'].loc[done_etl_df['new_cases_smoothed'].isnull()]"
   ]
  },
  {
   "cell_type": "code",
   "execution_count": 100,
   "id": "3795d692-1479-40e3-ba89-1983158592ca",
   "metadata": {},
   "outputs": [
    {
     "data": {
      "text/plain": [
       "24        1.429\n",
       "25        1.429\n",
       "26        1.429\n",
       "27        2.000\n",
       "28        1.857\n",
       "         ...   \n",
       "939    2098.714\n",
       "940    2362.000\n",
       "941    2055.857\n",
       "942    2093.571\n",
       "943    2061.143\n",
       "Name: new_cases_smoothed, Length: 918, dtype: float64"
      ]
     },
     "execution_count": 100,
     "metadata": {},
     "output_type": "execute_result"
    }
   ],
   "source": [
    "done_etl_df['new_cases_smoothed'].loc[done_etl_df['new_cases_smoothed'].notnull()]"
   ]
  },
  {
   "cell_type": "code",
   "execution_count": 102,
   "id": "65458d38-dd7c-424a-a6bc-ef29e2fb137a",
   "metadata": {},
   "outputs": [
    {
     "data": {
      "text/plain": [
       "0         0.0\n",
       "1         0.0\n",
       "2         0.0\n",
       "3         0.0\n",
       "4         0.0\n",
       "        ...  \n",
       "939    2108.0\n",
       "940    1843.0\n",
       "941    2432.0\n",
       "942    2166.0\n",
       "943    2253.0\n",
       "Name: new_cases, Length: 944, dtype: float64"
      ]
     },
     "execution_count": 102,
     "metadata": {},
     "output_type": "execute_result"
    }
   ],
   "source": [
    "done_etl_df['new_cases'].loc[done_etl_df['new_cases'].notnull()]"
   ]
  },
  {
   "cell_type": "code",
   "execution_count": null,
   "id": "316c311d-c263-465d-b55e-e9bb6035a004",
   "metadata": {},
   "outputs": [],
   "source": []
  }
 ],
 "metadata": {
  "kernelspec": {
   "display_name": "Python 3",
   "language": "python",
   "name": "python3"
  },
  "language_info": {
   "codemirror_mode": {
    "name": "ipython",
    "version": 3
   },
   "file_extension": ".py",
   "mimetype": "text/x-python",
   "name": "python",
   "nbconvert_exporter": "python",
   "pygments_lexer": "ipython3",
   "version": "3.9.12"
  }
 },
 "nbformat": 4,
 "nbformat_minor": 5
}
