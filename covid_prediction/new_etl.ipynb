{
 "cells": [
  {
   "cell_type": "code",
   "execution_count": 1,
   "id": "3a0eed7b-a0e9-4653-a191-0166e295d95c",
   "metadata": {},
   "outputs": [],
   "source": [
    "%load_ext autoreload\n",
    "%autoreload 2"
   ]
  },
  {
   "cell_type": "code",
   "execution_count": 2,
   "id": "a044b90e-4618-4764-8b9d-43dda54a4b41",
   "metadata": {},
   "outputs": [],
   "source": [
    "import pandas as pd\n",
    "import numpy as np\n",
    "from new_etl import covid_etl"
   ]
  },
  {
   "cell_type": "code",
   "execution_count": 3,
   "id": "238d611c-ca7d-4fe1-af81-353da2d25505",
   "metadata": {},
   "outputs": [],
   "source": [
    "pd.set_option(\"display.max_rows\", 100)"
   ]
  },
  {
   "cell_type": "code",
   "execution_count": 4,
   "id": "55a47df1-d415-41a8-bc97-88e5009e0b3f",
   "metadata": {},
   "outputs": [],
   "source": [
    "df = pd.read_csv('/usr/src/covid_prediction/our-world-in-data-covid19-dataset/owid-covid-data.csv')"
   ]
  },
  {
   "cell_type": "code",
   "execution_count": 5,
   "id": "3f4270ea-1439-471b-a9c5-8f6c76f066ae",
   "metadata": {},
   "outputs": [],
   "source": [
    "df = df.loc[df['location'] == 'Thailand']"
   ]
  },
  {
   "cell_type": "code",
   "execution_count": 6,
   "id": "bd9a43c9-baf9-437a-8a41-627638e02e4a",
   "metadata": {},
   "outputs": [
    {
     "data": {
      "text/plain": [
       "iso_code                                        0\n",
       "continent                                       0\n",
       "location                                        0\n",
       "date                                            0\n",
       "total_cases                                    18\n",
       "new_cases                                      21\n",
       "new_cases_smoothed                             26\n",
       "total_deaths                                   57\n",
       "new_deaths                                     58\n",
       "new_deaths_smoothed                            63\n",
       "total_cases_per_million                        18\n",
       "new_cases_per_million                          21\n",
       "new_cases_smoothed_per_million                 26\n",
       "total_deaths_per_million                       57\n",
       "new_deaths_per_million                         58\n",
       "new_deaths_smoothed_per_million                63\n",
       "reproduction_rate                              74\n",
       "icu_patients                                  944\n",
       "icu_patients_per_million                      944\n",
       "hosp_patients                                 944\n",
       "hosp_patients_per_million                     944\n",
       "weekly_icu_admissions                         944\n",
       "weekly_icu_admissions_per_million             944\n",
       "weekly_hosp_admissions                        944\n",
       "weekly_hosp_admissions_per_million            944\n",
       "total_tests                                    62\n",
       "new_tests                                      62\n",
       "total_tests_per_thousand                       62\n",
       "new_tests_per_thousand                         62\n",
       "new_tests_smoothed                             68\n",
       "new_tests_smoothed_per_thousand                68\n",
       "positive_rate                                  86\n",
       "tests_per_case                                 87\n",
       "tests_units                                    61\n",
       "total_vaccinations                            467\n",
       "people_vaccinated                             467\n",
       "people_fully_vaccinated                       472\n",
       "total_boosters                                596\n",
       "new_vaccinations                              482\n",
       "new_vaccinations_smoothed                     422\n",
       "total_vaccinations_per_hundred                467\n",
       "people_vaccinated_per_hundred                 467\n",
       "people_fully_vaccinated_per_hundred           472\n",
       "total_boosters_per_hundred                    596\n",
       "new_vaccinations_smoothed_per_million         422\n",
       "new_people_vaccinated_smoothed                422\n",
       "new_people_vaccinated_smoothed_per_hundred    422\n",
       "stringency_index                               16\n",
       "population                                      0\n",
       "population_density                              0\n",
       "median_age                                      0\n",
       "aged_65_older                                   0\n",
       "aged_70_older                                   0\n",
       "gdp_per_capita                                  0\n",
       "extreme_poverty                                 0\n",
       "cardiovasc_death_rate                           0\n",
       "diabetes_prevalence                             0\n",
       "female_smokers                                  0\n",
       "male_smokers                                    0\n",
       "handwashing_facilities                          0\n",
       "hospital_beds_per_thousand                      0\n",
       "life_expectancy                                 0\n",
       "human_development_index                         0\n",
       "excess_mortality_cumulative_absolute          914\n",
       "excess_mortality_cumulative                   914\n",
       "excess_mortality                              914\n",
       "excess_mortality_cumulative_per_million       914\n",
       "dtype: int64"
      ]
     },
     "execution_count": 6,
     "metadata": {},
     "output_type": "execute_result"
    }
   ],
   "source": [
    "df.isna().sum()"
   ]
  },
  {
   "cell_type": "code",
   "execution_count": 7,
   "id": "8f3c14ad-947d-4d0d-9238-18edf50c6759",
   "metadata": {},
   "outputs": [],
   "source": [
    "covid_etl = covid_etl('/usr/src/covid_prediction/our-world-in-data-covid19-dataset/owid-covid-data.csv')"
   ]
  },
  {
   "cell_type": "code",
   "execution_count": 8,
   "id": "67701027-7b0c-4364-bcdf-a4965d6f6c7f",
   "metadata": {},
   "outputs": [
    {
     "name": "stdout",
     "output_type": "stream",
     "text": [
      "Index(['total_cases', 'new_cases', 'total_deaths', 'new_deaths',\n",
      "       'reproduction_rate', 'total_tests', 'new_tests', 'positive_rate',\n",
      "       'tests_per_case', 'tests_units', 'total_vaccinations',\n",
      "       'people_vaccinated', 'people_fully_vaccinated', 'total_boosters',\n",
      "       'new_vaccinations', 'stringency_index', 'population',\n",
      "       'population_density', 'median_age', 'aged_65_older', 'aged_70_older',\n",
      "       'gdp_per_capita', 'extreme_poverty', 'cardiovasc_death_rate',\n",
      "       'diabetes_prevalence', 'female_smokers', 'male_smokers',\n",
      "       'handwashing_facilities', 'hospital_beds_per_thousand',\n",
      "       'life_expectancy', 'human_development_index', 'year', 'month', 'day'],\n",
      "      dtype='object')\n"
     ]
    }
   ],
   "source": [
    "done_etl_df = covid_etl.do()"
   ]
  },
  {
   "cell_type": "code",
   "execution_count": 9,
   "id": "c8af6d22-622b-4707-963f-7e9f1c57dca0",
   "metadata": {},
   "outputs": [],
   "source": [
    "pd.set_option('display.max_rows', 500)"
   ]
  },
  {
   "cell_type": "code",
   "execution_count": 10,
   "id": "19cfe753-a59a-4474-981d-15023a7f8d45",
   "metadata": {},
   "outputs": [
    {
     "ename": "KeyError",
     "evalue": "'date'",
     "output_type": "error",
     "traceback": [
      "\u001b[0;31m\u001b[0m",
      "\u001b[0;31mKeyError\u001b[0mTraceback (most recent call last)",
      "\u001b[0;32m/opt/conda/lib/python3.9/site-packages/pandas/core/indexes/base.py\u001b[0m in \u001b[0;36mget_loc\u001b[0;34m(self, key, method, tolerance)\u001b[0m\n\u001b[1;32m   3620\u001b[0m             \u001b[0;32mtry\u001b[0m\u001b[0;34m:\u001b[0m\u001b[0;34m\u001b[0m\u001b[0;34m\u001b[0m\u001b[0m\n\u001b[0;32m-> 3621\u001b[0;31m                 \u001b[0;32mreturn\u001b[0m \u001b[0mself\u001b[0m\u001b[0;34m.\u001b[0m\u001b[0m_engine\u001b[0m\u001b[0;34m.\u001b[0m\u001b[0mget_loc\u001b[0m\u001b[0;34m(\u001b[0m\u001b[0mcasted_key\u001b[0m\u001b[0;34m)\u001b[0m\u001b[0;34m\u001b[0m\u001b[0;34m\u001b[0m\u001b[0m\n\u001b[0m\u001b[1;32m   3622\u001b[0m             \u001b[0;32mexcept\u001b[0m \u001b[0mKeyError\u001b[0m \u001b[0;32mas\u001b[0m \u001b[0merr\u001b[0m\u001b[0;34m:\u001b[0m\u001b[0;34m\u001b[0m\u001b[0;34m\u001b[0m\u001b[0m\n",
      "\u001b[0;32m/opt/conda/lib/python3.9/site-packages/pandas/_libs/index.pyx\u001b[0m in \u001b[0;36mpandas._libs.index.IndexEngine.get_loc\u001b[0;34m()\u001b[0m\n",
      "\u001b[0;32m/opt/conda/lib/python3.9/site-packages/pandas/_libs/index.pyx\u001b[0m in \u001b[0;36mpandas._libs.index.IndexEngine.get_loc\u001b[0;34m()\u001b[0m\n",
      "\u001b[0;32mpandas/_libs/hashtable_class_helper.pxi\u001b[0m in \u001b[0;36mpandas._libs.hashtable.PyObjectHashTable.get_item\u001b[0;34m()\u001b[0m\n",
      "\u001b[0;32mpandas/_libs/hashtable_class_helper.pxi\u001b[0m in \u001b[0;36mpandas._libs.hashtable.PyObjectHashTable.get_item\u001b[0;34m()\u001b[0m\n",
      "\u001b[0;31mKeyError\u001b[0m: 'date'",
      "\nThe above exception was the direct cause of the following exception:\n",
      "\u001b[0;31mKeyError\u001b[0mTraceback (most recent call last)",
      "\u001b[0;32m<ipython-input-10-98291979989e>\u001b[0m in \u001b[0;36m<cell line: 1>\u001b[0;34m()\u001b[0m\n\u001b[0;32m----> 1\u001b[0;31m \u001b[0mdone_etl_df\u001b[0m\u001b[0;34m[\u001b[0m\u001b[0;34m'date'\u001b[0m\u001b[0;34m]\u001b[0m\u001b[0;34m.\u001b[0m\u001b[0mloc\u001b[0m\u001b[0;34m[\u001b[0m\u001b[0mdone_etl_df\u001b[0m\u001b[0;34m[\u001b[0m\u001b[0;34m'total_vaccinations'\u001b[0m\u001b[0;34m]\u001b[0m\u001b[0;34m.\u001b[0m\u001b[0misnull\u001b[0m\u001b[0;34m(\u001b[0m\u001b[0;34m)\u001b[0m\u001b[0;34m]\u001b[0m\u001b[0;34m\u001b[0m\u001b[0;34m\u001b[0m\u001b[0m\n\u001b[0m",
      "\u001b[0;32m/opt/conda/lib/python3.9/site-packages/pandas/core/frame.py\u001b[0m in \u001b[0;36m__getitem__\u001b[0;34m(self, key)\u001b[0m\n\u001b[1;32m   3503\u001b[0m             \u001b[0;32mif\u001b[0m \u001b[0mself\u001b[0m\u001b[0;34m.\u001b[0m\u001b[0mcolumns\u001b[0m\u001b[0;34m.\u001b[0m\u001b[0mnlevels\u001b[0m \u001b[0;34m>\u001b[0m \u001b[0;36m1\u001b[0m\u001b[0;34m:\u001b[0m\u001b[0;34m\u001b[0m\u001b[0;34m\u001b[0m\u001b[0m\n\u001b[1;32m   3504\u001b[0m                 \u001b[0;32mreturn\u001b[0m \u001b[0mself\u001b[0m\u001b[0;34m.\u001b[0m\u001b[0m_getitem_multilevel\u001b[0m\u001b[0;34m(\u001b[0m\u001b[0mkey\u001b[0m\u001b[0;34m)\u001b[0m\u001b[0;34m\u001b[0m\u001b[0;34m\u001b[0m\u001b[0m\n\u001b[0;32m-> 3505\u001b[0;31m             \u001b[0mindexer\u001b[0m \u001b[0;34m=\u001b[0m \u001b[0mself\u001b[0m\u001b[0;34m.\u001b[0m\u001b[0mcolumns\u001b[0m\u001b[0;34m.\u001b[0m\u001b[0mget_loc\u001b[0m\u001b[0;34m(\u001b[0m\u001b[0mkey\u001b[0m\u001b[0;34m)\u001b[0m\u001b[0;34m\u001b[0m\u001b[0;34m\u001b[0m\u001b[0m\n\u001b[0m\u001b[1;32m   3506\u001b[0m             \u001b[0;32mif\u001b[0m \u001b[0mis_integer\u001b[0m\u001b[0;34m(\u001b[0m\u001b[0mindexer\u001b[0m\u001b[0;34m)\u001b[0m\u001b[0;34m:\u001b[0m\u001b[0;34m\u001b[0m\u001b[0;34m\u001b[0m\u001b[0m\n\u001b[1;32m   3507\u001b[0m                 \u001b[0mindexer\u001b[0m \u001b[0;34m=\u001b[0m \u001b[0;34m[\u001b[0m\u001b[0mindexer\u001b[0m\u001b[0;34m]\u001b[0m\u001b[0;34m\u001b[0m\u001b[0;34m\u001b[0m\u001b[0m\n",
      "\u001b[0;32m/opt/conda/lib/python3.9/site-packages/pandas/core/indexes/base.py\u001b[0m in \u001b[0;36mget_loc\u001b[0;34m(self, key, method, tolerance)\u001b[0m\n\u001b[1;32m   3621\u001b[0m                 \u001b[0;32mreturn\u001b[0m \u001b[0mself\u001b[0m\u001b[0;34m.\u001b[0m\u001b[0m_engine\u001b[0m\u001b[0;34m.\u001b[0m\u001b[0mget_loc\u001b[0m\u001b[0;34m(\u001b[0m\u001b[0mcasted_key\u001b[0m\u001b[0;34m)\u001b[0m\u001b[0;34m\u001b[0m\u001b[0;34m\u001b[0m\u001b[0m\n\u001b[1;32m   3622\u001b[0m             \u001b[0;32mexcept\u001b[0m \u001b[0mKeyError\u001b[0m \u001b[0;32mas\u001b[0m \u001b[0merr\u001b[0m\u001b[0;34m:\u001b[0m\u001b[0;34m\u001b[0m\u001b[0;34m\u001b[0m\u001b[0m\n\u001b[0;32m-> 3623\u001b[0;31m                 \u001b[0;32mraise\u001b[0m \u001b[0mKeyError\u001b[0m\u001b[0;34m(\u001b[0m\u001b[0mkey\u001b[0m\u001b[0;34m)\u001b[0m \u001b[0;32mfrom\u001b[0m \u001b[0merr\u001b[0m\u001b[0;34m\u001b[0m\u001b[0;34m\u001b[0m\u001b[0m\n\u001b[0m\u001b[1;32m   3624\u001b[0m             \u001b[0;32mexcept\u001b[0m \u001b[0mTypeError\u001b[0m\u001b[0;34m:\u001b[0m\u001b[0;34m\u001b[0m\u001b[0;34m\u001b[0m\u001b[0m\n\u001b[1;32m   3625\u001b[0m                 \u001b[0;31m# If we have a listlike key, _check_indexing_error will raise\u001b[0m\u001b[0;34m\u001b[0m\u001b[0;34m\u001b[0m\u001b[0m\n",
      "\u001b[0;31mKeyError\u001b[0m: 'date'"
     ]
    }
   ],
   "source": [
    "done_etl_df['date'].loc[done_etl_df['total_vaccinations'].isnull()]"
   ]
  },
  {
   "cell_type": "code",
   "execution_count": 14,
   "id": "0a508192",
   "metadata": {},
   "outputs": [
    {
     "data": {
      "text/plain": [
       "Index(['total_cases', 'new_cases', 'total_deaths', 'new_deaths',\n",
       "       'reproduction_rate', 'total_tests', 'new_tests', 'positive_rate',\n",
       "       'tests_per_case', 'tests_units', 'total_vaccinations',\n",
       "       'people_vaccinated', 'people_fully_vaccinated', 'total_boosters',\n",
       "       'new_vaccinations', 'stringency_index', 'population',\n",
       "       'population_density', 'median_age', 'aged_65_older', 'aged_70_older',\n",
       "       'gdp_per_capita', 'extreme_poverty', 'cardiovasc_death_rate',\n",
       "       'diabetes_prevalence', 'female_smokers', 'male_smokers',\n",
       "       'handwashing_facilities', 'hospital_beds_per_thousand',\n",
       "       'life_expectancy', 'human_development_index', 'year', 'month', 'day'],\n",
       "      dtype='object')"
      ]
     },
     "execution_count": 14,
     "metadata": {},
     "output_type": "execute_result"
    }
   ],
   "source": [
    "done_etl_df.columns"
   ]
  },
  {
   "cell_type": "code",
   "execution_count": null,
   "id": "09e1dbb7-dadb-4ce3-8b0c-cb3848a46ca7",
   "metadata": {},
   "outputs": [],
   "source": [
    "done_etl_df['date'].loc[done_etl_df['total_cases'].isnull()]"
   ]
  },
  {
   "cell_type": "code",
   "execution_count": 26,
   "id": "9c5c674b",
   "metadata": {},
   "outputs": [],
   "source": [
    "pd.set_option('display.max_columns', None)"
   ]
  },
  {
   "cell_type": "code",
   "execution_count": 27,
   "id": "35daaa63",
   "metadata": {},
   "outputs": [
    {
     "data": {
      "text/html": [
       "<div>\n",
       "<style scoped>\n",
       "    .dataframe tbody tr th:only-of-type {\n",
       "        vertical-align: middle;\n",
       "    }\n",
       "\n",
       "    .dataframe tbody tr th {\n",
       "        vertical-align: top;\n",
       "    }\n",
       "\n",
       "    .dataframe thead th {\n",
       "        text-align: right;\n",
       "    }\n",
       "</style>\n",
       "<table border=\"1\" class=\"dataframe\">\n",
       "  <thead>\n",
       "    <tr style=\"text-align: right;\">\n",
       "      <th></th>\n",
       "      <th>total_cases</th>\n",
       "      <th>new_cases</th>\n",
       "      <th>total_deaths</th>\n",
       "      <th>new_deaths</th>\n",
       "      <th>reproduction_rate</th>\n",
       "      <th>total_tests</th>\n",
       "      <th>new_tests</th>\n",
       "      <th>positive_rate</th>\n",
       "      <th>tests_per_case</th>\n",
       "      <th>tests_units</th>\n",
       "      <th>total_vaccinations</th>\n",
       "      <th>people_vaccinated</th>\n",
       "      <th>people_fully_vaccinated</th>\n",
       "      <th>total_boosters</th>\n",
       "      <th>new_vaccinations</th>\n",
       "      <th>stringency_index</th>\n",
       "      <th>population</th>\n",
       "      <th>population_density</th>\n",
       "      <th>median_age</th>\n",
       "      <th>aged_65_older</th>\n",
       "      <th>aged_70_older</th>\n",
       "      <th>gdp_per_capita</th>\n",
       "      <th>extreme_poverty</th>\n",
       "      <th>cardiovasc_death_rate</th>\n",
       "      <th>diabetes_prevalence</th>\n",
       "      <th>female_smokers</th>\n",
       "      <th>male_smokers</th>\n",
       "      <th>handwashing_facilities</th>\n",
       "      <th>hospital_beds_per_thousand</th>\n",
       "      <th>life_expectancy</th>\n",
       "      <th>human_development_index</th>\n",
       "      <th>year</th>\n",
       "      <th>month</th>\n",
       "      <th>day</th>\n",
       "    </tr>\n",
       "  </thead>\n",
       "  <tbody>\n",
       "    <tr>\n",
       "      <th>425</th>\n",
       "      <td>26162.0</td>\n",
       "      <td>54.0</td>\n",
       "      <td>85.0</td>\n",
       "      <td>0.0</td>\n",
       "      <td>0.71</td>\n",
       "      <td>2859798.0</td>\n",
       "      <td>18576.0</td>\n",
       "      <td>0.0041</td>\n",
       "      <td>242.8</td>\n",
       "      <td>1</td>\n",
       "      <td>0.0</td>\n",
       "      <td>0.0</td>\n",
       "      <td>0.0</td>\n",
       "      <td>0.0</td>\n",
       "      <td>0.0</td>\n",
       "      <td>47.22</td>\n",
       "      <td>71601103.0</td>\n",
       "      <td>135.132</td>\n",
       "      <td>40.1</td>\n",
       "      <td>11.373</td>\n",
       "      <td>6.89</td>\n",
       "      <td>16277.671</td>\n",
       "      <td>0.1</td>\n",
       "      <td>109.861</td>\n",
       "      <td>7.04</td>\n",
       "      <td>1.9</td>\n",
       "      <td>38.8</td>\n",
       "      <td>90.67</td>\n",
       "      <td>2.1</td>\n",
       "      <td>77.15</td>\n",
       "      <td>0.777</td>\n",
       "      <td>2021</td>\n",
       "      <td>3</td>\n",
       "      <td>4</td>\n",
       "    </tr>\n",
       "  </tbody>\n",
       "</table>\n",
       "</div>"
      ],
      "text/plain": [
       "     total_cases  new_cases  total_deaths  new_deaths  reproduction_rate  \\\n",
       "425      26162.0       54.0          85.0         0.0               0.71   \n",
       "\n",
       "     total_tests  new_tests  positive_rate  tests_per_case  tests_units  \\\n",
       "425    2859798.0    18576.0         0.0041           242.8            1   \n",
       "\n",
       "     total_vaccinations  people_vaccinated  people_fully_vaccinated  \\\n",
       "425                 0.0                0.0                      0.0   \n",
       "\n",
       "     total_boosters  new_vaccinations  stringency_index  population  \\\n",
       "425             0.0               0.0             47.22  71601103.0   \n",
       "\n",
       "     population_density  median_age  aged_65_older  aged_70_older  \\\n",
       "425             135.132        40.1         11.373           6.89   \n",
       "\n",
       "     gdp_per_capita  extreme_poverty  cardiovasc_death_rate  \\\n",
       "425       16277.671              0.1                109.861   \n",
       "\n",
       "     diabetes_prevalence  female_smokers  male_smokers  \\\n",
       "425                 7.04             1.9          38.8   \n",
       "\n",
       "     handwashing_facilities  hospital_beds_per_thousand  life_expectancy  \\\n",
       "425                   90.67                         2.1            77.15   \n",
       "\n",
       "     human_development_index  year  month  day  \n",
       "425                    0.777  2021      3    4  "
      ]
     },
     "execution_count": 27,
     "metadata": {},
     "output_type": "execute_result"
    }
   ],
   "source": [
    "done_etl_df.sample(1)"
   ]
  },
  {
   "cell_type": "code",
   "execution_count": null,
   "id": "106b0c6f-c2d1-4828-bc3f-cd41d6e18803",
   "metadata": {},
   "outputs": [],
   "source": [
    "done_etl_df.isna().sum()"
   ]
  }
 ],
 "metadata": {
  "kernelspec": {
   "display_name": "Python 3",
   "language": "python",
   "name": "python3"
  },
  "language_info": {
   "codemirror_mode": {
    "name": "ipython",
    "version": 3
   },
   "file_extension": ".py",
   "mimetype": "text/x-python",
   "name": "python",
   "nbconvert_exporter": "python",
   "pygments_lexer": "ipython3",
   "version": "3.9.13"
  }
 },
 "nbformat": 4,
 "nbformat_minor": 5
}
