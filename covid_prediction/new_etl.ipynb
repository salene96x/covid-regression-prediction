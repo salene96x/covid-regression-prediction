{
 "cells": [
  {
   "cell_type": "code",
   "execution_count": 1,
   "id": "3a0eed7b-a0e9-4653-a191-0166e295d95c",
   "metadata": {},
   "outputs": [],
   "source": [
    "%load_ext autoreload\n",
    "%autoreload 2"
   ]
  },
  {
   "cell_type": "code",
   "execution_count": 2,
   "id": "a044b90e-4618-4764-8b9d-43dda54a4b41",
   "metadata": {},
   "outputs": [],
   "source": [
    "import pandas as pd\n",
    "import numpy as np\n",
    "from new_etl import covid_etl"
   ]
  },
  {
   "cell_type": "code",
   "execution_count": 3,
   "id": "238d611c-ca7d-4fe1-af81-353da2d25505",
   "metadata": {},
   "outputs": [],
   "source": [
    "pd.set_option(\"display.max_rows\", 100)"
   ]
  },
  {
   "cell_type": "code",
   "execution_count": 4,
   "id": "55a47df1-d415-41a8-bc97-88e5009e0b3f",
   "metadata": {},
   "outputs": [],
   "source": [
    "df = pd.read_csv('/usr/src/covid_prediction/our-world-in-data-covid19-dataset/owid-covid-data.csv')"
   ]
  },
  {
   "cell_type": "code",
   "execution_count": 5,
   "id": "3f4270ea-1439-471b-a9c5-8f6c76f066ae",
   "metadata": {},
   "outputs": [],
   "source": [
    "df = df.loc[df['location'] == 'Thailand']"
   ]
  },
  {
   "cell_type": "code",
   "execution_count": 6,
   "id": "bd9a43c9-baf9-437a-8a41-627638e02e4a",
   "metadata": {},
   "outputs": [
    {
     "data": {
      "text/plain": [
       "iso_code                                        0\n",
       "continent                                       0\n",
       "location                                        0\n",
       "date                                            0\n",
       "total_cases                                    18\n",
       "new_cases                                      21\n",
       "new_cases_smoothed                             26\n",
       "total_deaths                                   57\n",
       "new_deaths                                     58\n",
       "new_deaths_smoothed                            63\n",
       "total_cases_per_million                        18\n",
       "new_cases_per_million                          21\n",
       "new_cases_smoothed_per_million                 26\n",
       "total_deaths_per_million                       57\n",
       "new_deaths_per_million                         58\n",
       "new_deaths_smoothed_per_million                63\n",
       "reproduction_rate                              74\n",
       "icu_patients                                  944\n",
       "icu_patients_per_million                      944\n",
       "hosp_patients                                 944\n",
       "hosp_patients_per_million                     944\n",
       "weekly_icu_admissions                         944\n",
       "weekly_icu_admissions_per_million             944\n",
       "weekly_hosp_admissions                        944\n",
       "weekly_hosp_admissions_per_million            944\n",
       "total_tests                                    62\n",
       "new_tests                                      62\n",
       "total_tests_per_thousand                       62\n",
       "new_tests_per_thousand                         62\n",
       "new_tests_smoothed                             68\n",
       "new_tests_smoothed_per_thousand                68\n",
       "positive_rate                                  86\n",
       "tests_per_case                                 87\n",
       "tests_units                                    61\n",
       "total_vaccinations                            467\n",
       "people_vaccinated                             467\n",
       "people_fully_vaccinated                       472\n",
       "total_boosters                                596\n",
       "new_vaccinations                              482\n",
       "new_vaccinations_smoothed                     422\n",
       "total_vaccinations_per_hundred                467\n",
       "people_vaccinated_per_hundred                 467\n",
       "people_fully_vaccinated_per_hundred           472\n",
       "total_boosters_per_hundred                    596\n",
       "new_vaccinations_smoothed_per_million         422\n",
       "new_people_vaccinated_smoothed                422\n",
       "new_people_vaccinated_smoothed_per_hundred    422\n",
       "stringency_index                               16\n",
       "population                                      0\n",
       "population_density                              0\n",
       "median_age                                      0\n",
       "aged_65_older                                   0\n",
       "aged_70_older                                   0\n",
       "gdp_per_capita                                  0\n",
       "extreme_poverty                                 0\n",
       "cardiovasc_death_rate                           0\n",
       "diabetes_prevalence                             0\n",
       "female_smokers                                  0\n",
       "male_smokers                                    0\n",
       "handwashing_facilities                          0\n",
       "hospital_beds_per_thousand                      0\n",
       "life_expectancy                                 0\n",
       "human_development_index                         0\n",
       "excess_mortality_cumulative_absolute          914\n",
       "excess_mortality_cumulative                   914\n",
       "excess_mortality                              914\n",
       "excess_mortality_cumulative_per_million       914\n",
       "dtype: int64"
      ]
     },
     "execution_count": 6,
     "metadata": {},
     "output_type": "execute_result"
    }
   ],
   "source": [
    "df.isna().sum()"
   ]
  },
  {
   "cell_type": "code",
   "execution_count": 7,
   "id": "8f3c14ad-947d-4d0d-9238-18edf50c6759",
   "metadata": {},
   "outputs": [],
   "source": [
    "covid_etl = covid_etl('/usr/src/covid_prediction/our-world-in-data-covid19-dataset/owid-covid-data.csv')"
   ]
  },
  {
   "cell_type": "code",
   "execution_count": 8,
   "id": "67701027-7b0c-4364-bcdf-a4965d6f6c7f",
   "metadata": {},
   "outputs": [],
   "source": [
    "done_etl_df = covid_etl.do()"
   ]
  },
  {
   "cell_type": "code",
   "execution_count": 9,
   "id": "c8af6d22-622b-4707-963f-7e9f1c57dca0",
   "metadata": {},
   "outputs": [],
   "source": [
    "pd.set_option('display.max_rows', 500)"
   ]
  },
  {
   "cell_type": "code",
   "execution_count": 10,
   "id": "19cfe753-a59a-4474-981d-15023a7f8d45",
   "metadata": {},
   "outputs": [
    {
     "data": {
      "text/plain": [
       "Series([], Name: date, dtype: datetime64[ns])"
      ]
     },
     "execution_count": 10,
     "metadata": {},
     "output_type": "execute_result"
    }
   ],
   "source": [
    "done_etl_df['date'].loc[done_etl_df['total_vaccinations'].isnull()]"
   ]
  },
  {
   "cell_type": "code",
   "execution_count": 11,
   "id": "09e1dbb7-dadb-4ce3-8b0c-cb3848a46ca7",
   "metadata": {},
   "outputs": [
    {
     "data": {
      "text/plain": [
       "Series([], Name: date, dtype: datetime64[ns])"
      ]
     },
     "execution_count": 11,
     "metadata": {},
     "output_type": "execute_result"
    }
   ],
   "source": [
    "done_etl_df['date'].loc[done_etl_df['total_cases'].isnull()]"
   ]
  },
  {
   "cell_type": "code",
   "execution_count": 12,
   "id": "106b0c6f-c2d1-4828-bc3f-cd41d6e18803",
   "metadata": {},
   "outputs": [
    {
     "data": {
      "text/plain": [
       "date                          0\n",
       "iso_code                      0\n",
       "continent                     0\n",
       "location                      0\n",
       "total_cases                   0\n",
       "new_cases                     0\n",
       "total_deaths                  0\n",
       "new_deaths                    0\n",
       "reproduction_rate             0\n",
       "total_tests                   0\n",
       "new_tests                     0\n",
       "positive_rate                 0\n",
       "tests_per_case                0\n",
       "tests_units                   0\n",
       "total_vaccinations            0\n",
       "people_vaccinated             0\n",
       "people_fully_vaccinated       0\n",
       "total_boosters                0\n",
       "new_vaccinations              0\n",
       "stringency_index              0\n",
       "population                    0\n",
       "population_density            0\n",
       "median_age                    0\n",
       "aged_65_older                 0\n",
       "aged_70_older                 0\n",
       "gdp_per_capita                0\n",
       "extreme_poverty               0\n",
       "cardiovasc_death_rate         0\n",
       "diabetes_prevalence           0\n",
       "female_smokers                0\n",
       "male_smokers                  0\n",
       "handwashing_facilities        0\n",
       "hospital_beds_per_thousand    0\n",
       "life_expectancy               0\n",
       "human_development_index       0\n",
       "dtype: int64"
      ]
     },
     "execution_count": 12,
     "metadata": {},
     "output_type": "execute_result"
    }
   ],
   "source": [
    "done_etl_df.isna().sum()"
   ]
  }
 ],
 "metadata": {
  "kernelspec": {
   "display_name": "Python 3",
   "language": "python",
   "name": "python3"
  },
  "language_info": {
   "codemirror_mode": {
    "name": "ipython",
    "version": 3
   },
   "file_extension": ".py",
   "mimetype": "text/x-python",
   "name": "python",
   "nbconvert_exporter": "python",
   "pygments_lexer": "ipython3",
   "version": "3.9.12"
  }
 },
 "nbformat": 4,
 "nbformat_minor": 5
}
