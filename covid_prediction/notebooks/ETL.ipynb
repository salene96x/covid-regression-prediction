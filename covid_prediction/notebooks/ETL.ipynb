{
 "cells": [
  {
   "cell_type": "code",
   "execution_count": 1,
   "id": "907708cf-1d88-4017-9fcc-d7a30c4b621d",
   "metadata": {},
   "outputs": [],
   "source": [
    "%load_ext autoreload\n",
    "%autoreload 2"
   ]
  },
  {
   "cell_type": "code",
   "execution_count": 2,
   "id": "b521cf40-8e86-4048-8d3b-8ebcafc80cfb",
   "metadata": {},
   "outputs": [
    {
     "ename": "ModuleNotFoundError",
     "evalue": "No module named 'modules'",
     "output_type": "error",
     "traceback": [
      "\u001b[0;31m\u001b[0m",
      "\u001b[0;31mModuleNotFoundError\u001b[0mTraceback (most recent call last)",
      "Input \u001b[0;32mIn [2]\u001b[0m, in \u001b[0;36m<cell line: 1>\u001b[0;34m()\u001b[0m\n\u001b[0;32m----> 1\u001b[0m \u001b[38;5;28;01mfrom\u001b[39;00m \u001b[38;5;21;01mmodules\u001b[39;00m\u001b[38;5;21;01m.\u001b[39;00m\u001b[38;5;21;01mbuilder\u001b[39;00m \u001b[38;5;28;01mimport\u001b[39;00m Builder\n\u001b[1;32m      2\u001b[0m \u001b[38;5;28;01mimport\u001b[39;00m \u001b[38;5;21;01mpandas\u001b[39;00m \u001b[38;5;28;01mas\u001b[39;00m \u001b[38;5;21;01mpd\u001b[39;00m\n\u001b[1;32m      3\u001b[0m \u001b[38;5;28;01mimport\u001b[39;00m \u001b[38;5;21;01mos\u001b[39;00m\n",
      "\u001b[0;31mModuleNotFoundError\u001b[0m: No module named 'modules'"
     ]
    }
   ],
   "source": [
    "from modules.builder import Builder\n",
    "import pandas as pd\n",
    "import os\n",
    "from modules.cleaner import Cleaner\n",
    "from modules.qualityChecker import QualityChecker\n",
    "import json\n",
    "import matplotlib.pyplot as plt\n",
    "import numpy as np\n",
    "import seaborn as sns\n",
    "from sklearn.metrics import mean_squared_error\n",
    "from sklearn.metrics import mean_absolute_error\n",
    "from sklearn.preprocessing import StandardScaler\n",
    "from sklearn.model_selection import train_test_split\n",
    "from sklearn.metrics import mean_squared_error\n",
    "from sklearn.metrics import mean_absolute_error\n",
    "import joblib\n",
    "import plotly.express as px\n",
    "import numpy as np"
   ]
  },
  {
   "cell_type": "code",
   "execution_count": null,
   "id": "9637085c-6a0d-4102-ba86-5e4fa53a4def",
   "metadata": {},
   "outputs": [],
   "source": [
    "data_path = '/usr/src/Covid-Regression-MortalityVSPopulation/datasets/time_series_covid19_confirmed_global.csv'\n",
    "vac_path = '/usr/src/Covid-Regression-MortalityVSPopulation/datasets/vaccinations.csv'\n",
    "death_path = '/usr/src/Covid-Regression-MortalityVSPopulation/datasets/all_weekly_excess_deaths.csv'\n",
    "metadata_path = '/usr/src/Covid-Regression-MortalityVSPopulation/datasets/owid-covid-data.csv'"
   ]
  },
  {
   "cell_type": "code",
   "execution_count": null,
   "id": "28937b04-4f37-4adb-8920-fbb4125dfdd3",
   "metadata": {},
   "outputs": [],
   "source": [
    "df_global = pd.read_csv(data_path)\n",
    "df_vac = pd.read_csv(vac_path)\n",
    "df_deaths = pd.read_csv(death_path)\n",
    "df_meta = pd.read_csv(metadata_path)"
   ]
  },
  {
   "cell_type": "code",
   "execution_count": null,
   "id": "78edb703-5d4d-4c23-a876-eaa0f0c7fc1a",
   "metadata": {},
   "outputs": [],
   "source": [
    "df_global"
   ]
  },
  {
   "cell_type": "code",
   "execution_count": null,
   "id": "818d733d-040e-42a4-a757-9ebfe4793f66",
   "metadata": {},
   "outputs": [],
   "source": [
    "df_global.loc[df_global['Country/Region'] == 'Thailand']"
   ]
  },
  {
   "cell_type": "code",
   "execution_count": null,
   "id": "4e6e842b-fc92-4efa-bf28-cb6162958aca",
   "metadata": {},
   "outputs": [],
   "source": [
    "df_global = df_global.drop([\"Province/State\", 'Lat', 'Long'], axis=1)"
   ]
  },
  {
   "cell_type": "code",
   "execution_count": null,
   "id": "b89774de-5cd0-4358-80a6-7f9deae307af",
   "metadata": {},
   "outputs": [],
   "source": [
    "df_global = df_global.rename({\"Country/Region\": 'country'}, axis='columns')"
   ]
  },
  {
   "cell_type": "code",
   "execution_count": null,
   "id": "4c442002-06e3-4eb3-9ceb-c1a161cc8568",
   "metadata": {},
   "outputs": [],
   "source": [
    "df = df_global.loc[df_global['country'] == 'Thailand']"
   ]
  },
  {
   "cell_type": "code",
   "execution_count": null,
   "id": "62687965-1d16-4e4a-a13e-895b892cbf86",
   "metadata": {},
   "outputs": [],
   "source": [
    "def reverse_columns(df : pd.DataFrame):\n",
    "    new_df = pd.DataFrame()\n",
    "    country_list = list()\n",
    "    dates = list()\n",
    "    data = list()\n",
    "    for j in df.columns[1:]:\n",
    "        country_list.append(\"Thailand\")\n",
    "        dates.append(j)\n",
    "        data.append(df[j].tolist()[0])\n",
    "    new_df['country'] = country_list\n",
    "    new_df['date'] = dates\n",
    "    new_df['effected_patients'] = data\n",
    "    return new_df"
   ]
  },
  {
   "cell_type": "code",
   "execution_count": null,
   "id": "72f61fe6-460a-4b44-9bd5-5534d66452be",
   "metadata": {},
   "outputs": [],
   "source": [
    "df = reverse_columns(df)"
   ]
  },
  {
   "cell_type": "code",
   "execution_count": null,
   "id": "77fc0b6c-6adc-4c7b-ac7b-95590468fa3e",
   "metadata": {},
   "outputs": [],
   "source": [
    "df"
   ]
  },
  {
   "cell_type": "code",
   "execution_count": null,
   "id": "e8bfe0d9-a868-4cf3-93d7-c0f4cd266964",
   "metadata": {},
   "outputs": [],
   "source": [
    "df_deaths.loc[df_deaths['country'] == 'Thailand']"
   ]
  },
  {
   "cell_type": "code",
   "execution_count": null,
   "id": "d9193047-9a7a-4665-97ee-67bdb5a8ffa0",
   "metadata": {},
   "outputs": [],
   "source": [
    "df_meta.loc[df_meta['location'] == 'Thailand']"
   ]
  },
  {
   "cell_type": "code",
   "execution_count": null,
   "id": "2e5785db-34bb-4fd5-a1e9-a6efdc37c877",
   "metadata": {},
   "outputs": [],
   "source": [
    "df = df_meta.loc[df_meta['location'] == 'Thailand']"
   ]
  },
  {
   "cell_type": "code",
   "execution_count": null,
   "id": "ebed220d-24f5-4333-9b53-b3c16ffee1f3",
   "metadata": {},
   "outputs": [],
   "source": [
    "df.reset_index()"
   ]
  },
  {
   "cell_type": "code",
   "execution_count": null,
   "id": "11ec8f1d-070f-47b6-959c-6394a79703f8",
   "metadata": {},
   "outputs": [],
   "source": [
    "df.info()"
   ]
  },
  {
   "cell_type": "code",
   "execution_count": null,
   "id": "37164a37-126d-4d2a-b131-8f51f5eeca77",
   "metadata": {},
   "outputs": [],
   "source": [
    "df.duplicated().sum()"
   ]
  },
  {
   "cell_type": "code",
   "execution_count": null,
   "id": "8c8864ef-2a2b-40bb-bc0c-e91de2f149e4",
   "metadata": {},
   "outputs": [],
   "source": [
    "df.isna().sum()"
   ]
  },
  {
   "cell_type": "code",
   "execution_count": null,
   "id": "59126b6a-6182-4822-9933-43a5b0e64ef7",
   "metadata": {},
   "outputs": [],
   "source": [
    "df = df.fillna(0)"
   ]
  },
  {
   "cell_type": "code",
   "execution_count": null,
   "id": "3b7a770b-73b5-48f8-af5f-c443a1f9a4ae",
   "metadata": {},
   "outputs": [],
   "source": [
    "df.isna().sum()"
   ]
  },
  {
   "cell_type": "code",
   "execution_count": null,
   "id": "4284d2e9-4c7d-498a-a57f-7f2f86170a3b",
   "metadata": {},
   "outputs": [],
   "source": [
    "df['total_deaths']"
   ]
  },
  {
   "cell_type": "code",
   "execution_count": null,
   "id": "120ec3a9-6ebc-43a1-9ca3-7582aaacf828",
   "metadata": {},
   "outputs": [],
   "source": [
    "df.info()"
   ]
  },
  {
   "cell_type": "code",
   "execution_count": null,
   "id": "85363178-de08-456e-bbad-c40084647d76",
   "metadata": {},
   "outputs": [],
   "source": [
    "df = df.drop(['iso_code', 'continent', 'location'], axis=1)"
   ]
  },
  {
   "cell_type": "code",
   "execution_count": null,
   "id": "5e48c6c9-ad3e-4083-a03e-d17a031dbf92",
   "metadata": {},
   "outputs": [],
   "source": [
    "df"
   ]
  },
  {
   "cell_type": "code",
   "execution_count": null,
   "id": "a4b6ef84-825d-486a-9e95-c50380af03cd",
   "metadata": {},
   "outputs": [],
   "source": [
    "df['date'] = pd.to_datetime(df['date'])    \n",
    "df['date_delta'] = (df['date'] - df['date'].min())  / np.timedelta64(1,'D')"
   ]
  },
  {
   "cell_type": "code",
   "execution_count": null,
   "id": "d7c51ae1-8432-4b9d-ba33-f576115087dd",
   "metadata": {},
   "outputs": [],
   "source": [
    "df"
   ]
  },
  {
   "cell_type": "code",
   "execution_count": null,
   "id": "5c8f3028-af53-421e-af32-e98da8851d0e",
   "metadata": {},
   "outputs": [],
   "source": [
    "df.columns"
   ]
  },
  {
   "cell_type": "code",
   "execution_count": null,
   "id": "c7438507-3ef0-4429-b1a6-0597029b9aa3",
   "metadata": {},
   "outputs": [],
   "source": [
    "df = df.drop(\"date\", axis=1)\n",
    "train_data = df.copy()\n",
    "train_data = train_data.drop(['new_deaths', 'tests_units'], axis=1)\n",
    "x = train_data[['total_cases', 'new_cases', 'new_cases_smoothed', 'total_deaths', 'new_deaths_smoothed', 'total_cases_per_million',\n",
    "       'new_cases_per_million', 'new_cases_smoothed_per_million',\n",
    "       'total_deaths_per_million', 'new_deaths_per_million',\n",
    "       'new_deaths_smoothed_per_million', 'reproduction_rate', 'icu_patients',\n",
    "       'icu_patients_per_million', 'hosp_patients',\n",
    "       'hosp_patients_per_million', 'weekly_icu_admissions',\n",
    "       'weekly_icu_admissions_per_million', 'weekly_hosp_admissions',\n",
    "       'weekly_hosp_admissions_per_million', 'total_tests', 'new_tests',\n",
    "       'total_tests_per_thousand', 'new_tests_per_thousand',\n",
    "       'new_tests_smoothed', 'new_tests_smoothed_per_thousand',\n",
    "       'positive_rate', 'tests_per_case', 'total_vaccinations',\n",
    "       'people_vaccinated', 'people_fully_vaccinated', 'total_boosters',\n",
    "       'new_vaccinations', 'new_vaccinations_smoothed',\n",
    "       'total_vaccinations_per_hundred', 'people_vaccinated_per_hundred',\n",
    "       'people_fully_vaccinated_per_hundred', 'total_boosters_per_hundred',\n",
    "       'new_vaccinations_smoothed_per_million',\n",
    "       'new_people_vaccinated_smoothed',\n",
    "       'new_people_vaccinated_smoothed_per_hundred', 'stringency_index',\n",
    "       'population', 'population_density', 'median_age', 'aged_65_older',\n",
    "       'aged_70_older', 'gdp_per_capita', 'extreme_poverty',\n",
    "       'cardiovasc_death_rate', 'diabetes_prevalence', 'female_smokers',\n",
    "       'male_smokers', 'handwashing_facilities', 'hospital_beds_per_thousand',\n",
    "       'life_expectancy', 'human_development_index',\n",
    "       'excess_mortality_cumulative_absolute', 'excess_mortality_cumulative',\n",
    "       'excess_mortality', 'excess_mortality_cumulative_per_million',\n",
    "       'date_delta']]\n",
    "y = df[['new_deaths']]\n"
   ]
  },
  {
   "cell_type": "code",
   "execution_count": null,
   "id": "8df260eb-624d-422e-8d3a-4732f440d613",
   "metadata": {},
   "outputs": [],
   "source": [
    "x.reset_index()\n",
    "y.reset_index()"
   ]
  },
  {
   "cell_type": "code",
   "execution_count": null,
   "id": "5e235eeb-682b-4e60-b8fe-2d4f7e6b947a",
   "metadata": {},
   "outputs": [],
   "source": [
    "y"
   ]
  },
  {
   "cell_type": "code",
   "execution_count": null,
   "id": "96f8a688-a9b6-4d7b-afcd-14843183bcbc",
   "metadata": {},
   "outputs": [],
   "source": [
    "model = Builder().build_model(\"LinearRegression\")"
   ]
  },
  {
   "cell_type": "code",
   "execution_count": null,
   "id": "fbc6fe9b-30c4-440c-a92f-27fb2d76e665",
   "metadata": {},
   "outputs": [],
   "source": [
    "x_train,x_test,y_train,y_test = train_test_split(x,y,test_size=0.25,random_state=100)"
   ]
  },
  {
   "cell_type": "code",
   "execution_count": null,
   "id": "ef7462a3-93de-47cc-859e-4ad66bd9568e",
   "metadata": {},
   "outputs": [],
   "source": [
    "# Standard Normalization(x)\n",
    "std_x = StandardScaler()\n",
    "x_train = std_x.fit_transform(x_train)\n",
    "x_test = std_x.transform(x_test)\n",
    "\n",
    "# Standard Normalization(y)\n",
    "std_y = StandardScaler()\n",
    "y_train = std_y.fit_transform(y_train)\n",
    "y_test = std_y.transform(y_test)"
   ]
  },
  {
   "cell_type": "code",
   "execution_count": null,
   "id": "b74f8c2a-9298-4e36-8fec-546cc7b4aabf",
   "metadata": {},
   "outputs": [],
   "source": [
    "model.fit(x_train, y_train)"
   ]
  },
  {
   "cell_type": "code",
   "execution_count": null,
   "id": "aac01bad-d790-434e-9e53-f6607b676bdf",
   "metadata": {},
   "outputs": [],
   "source": [
    "y_pred = std_y.inverse_transform(model.predict(x_test))"
   ]
  },
  {
   "cell_type": "code",
   "execution_count": null,
   "id": "03710f83-0669-456c-8235-6b9f6d881988",
   "metadata": {},
   "outputs": [],
   "source": [
    "y_pred"
   ]
  },
  {
   "cell_type": "code",
   "execution_count": null,
   "id": "eaea93f7-45fc-4b54-9f5d-9d446dcfb8ff",
   "metadata": {},
   "outputs": [],
   "source": []
  }
 ],
 "metadata": {
  "kernelspec": {
   "display_name": "Python 3",
   "language": "python",
   "name": "python3"
  },
  "language_info": {
   "codemirror_mode": {
    "name": "ipython",
    "version": 3
   },
   "file_extension": ".py",
   "mimetype": "text/x-python",
   "name": "python",
   "nbconvert_exporter": "python",
   "pygments_lexer": "ipython3",
   "version": "3.9.13"
  }
 },
 "nbformat": 4,
 "nbformat_minor": 5
}
