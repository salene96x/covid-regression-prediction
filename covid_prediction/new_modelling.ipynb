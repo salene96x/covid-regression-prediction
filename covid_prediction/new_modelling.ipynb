{
 "cells": [
  {
   "cell_type": "code",
   "execution_count": 1,
   "id": "e7887ded-b52c-4113-8b37-896ee339b6fa",
   "metadata": {},
   "outputs": [],
   "source": [
    "%load_ext autoreload\n",
    "%autoreload 2"
   ]
  },
  {
   "cell_type": "code",
   "execution_count": 2,
   "id": "d714e90b-ace7-41bd-93d4-202f52341c4b",
   "metadata": {},
   "outputs": [],
   "source": [
    "#from model_training import *\n",
    "import yaml\n",
    "from benchmark import *\n",
    "import pandas as pd\n",
    "from new_etl import *\n",
    "import seaborn as sns\n",
    "import matplotlib.pyplot as plt\n",
    "from sklearn.metrics import r2_score\n",
    "from sklearn.metrics import mean_squared_error\n",
    "from sklearn.metrics import mean_absolute_error"
   ]
  },
  {
   "cell_type": "code",
   "execution_count": 3,
   "id": "2bee1bdf-02b4-4fa6-80b0-2f833e6a6595",
   "metadata": {},
   "outputs": [],
   "source": [
    "data = {\n",
    "    \n",
    "}\n",
    "class data_test:\n",
    "    def __init__(self, path):\n",
    "        self.etl = covid_etl(path)\n",
    "        self.df = self.etl.do()\n",
    "        self.df_x = self.df[[\"total_cases\", \"new_cases\", \"total_deaths\",\n",
    "       \"reproduction_rate\", \"total_tests\", \"new_tests\", \"positive_rate\",\n",
    "       \"tests_per_case\", 'tests_units', 'total_vaccinations',\n",
    "       'people_vaccinated', 'people_fully_vaccinated', 'total_boosters',\n",
    "       'new_vaccinations', 'stringency_index', 'population',\n",
    "       'population_density', 'median_age', 'aged_65_older', 'aged_70_older',\n",
    "       'gdp_per_capita', 'extreme_poverty', 'cardiovasc_death_rate',\n",
    "       'diabetes_prevalence', 'female_smokers', 'male_smokers',\n",
    "       'handwashing_facilities', 'hospital_beds_per_thousand',\n",
    "       'life_expectancy', 'human_development_index', 'year', 'month', 'day']]\n",
    "        self.df_y = self.df[['new_deaths']]\n",
    "    def split_data(self):\n",
    "        x_train, x_test, y_train, y_test = train_test_split(self.df_x, self.df_y, test_size=0.3, random_state=66)\n",
    "        return x_train, x_test, y_train, y_test\n",
    "    def scaled_data(self):\n",
    "        x_train, x_test, y_train, y_test = self.split_data()\n",
    "        scaler_x = StandardScaler()\n",
    "        scaler_y = StandardScaler()\n",
    "        \n",
    "        x_train = scaler_x.fit_transform(x_train)\n",
    "        x_test = scaler_x.transform(x_test)\n",
    "        \n",
    "        y_train = scaler_y.fit_transform(y_train)\n",
    "        y_test = scaler_y.transform(y_test)\n",
    "        return x_train, x_test, y_train, y_test, scaler_y"
   ]
  },
  {
   "cell_type": "code",
   "execution_count": 4,
   "id": "f5a5254a-998e-4674-9f9f-cb8c2068e74c",
   "metadata": {},
   "outputs": [
    {
     "name": "stderr",
     "output_type": "stream",
     "text": [
      "<ipython-input-4-51a61f71400a>:2: YAMLLoadWarning: calling yaml.load() without Loader=... is deprecated, as the default Loader is unsafe. Please read https://msg.pyyaml.org/load for full details.\n",
      "  cfg = yaml.load(yaml_file)\n"
     ]
    }
   ],
   "source": [
    "with open('regression-training-ex-1.yaml', 'r') as yaml_file:\n",
    "    cfg = yaml.load(yaml_file)"
   ]
  },
  {
   "cell_type": "code",
   "execution_count": 5,
   "id": "353e5fa9-08a5-4820-afbc-15174f0e12a9",
   "metadata": {},
   "outputs": [],
   "source": [
    "r2_scores = list()\n",
    "mse_scores = list()\n",
    "mae_scores = list()"
   ]
  },
  {
   "cell_type": "code",
   "execution_count": 6,
   "id": "cbc3e383-50e8-46c9-97e1-9d5048021a34",
   "metadata": {},
   "outputs": [
    {
     "name": "stdout",
     "output_type": "stream",
     "text": [
      "Index(['total_cases', 'new_cases', 'total_deaths', 'new_deaths',\n",
      "       'reproduction_rate', 'total_tests', 'new_tests', 'positive_rate',\n",
      "       'tests_per_case', 'tests_units', 'total_vaccinations',\n",
      "       'people_vaccinated', 'people_fully_vaccinated', 'total_boosters',\n",
      "       'new_vaccinations', 'stringency_index', 'population',\n",
      "       'population_density', 'median_age', 'aged_65_older', 'aged_70_older',\n",
      "       'gdp_per_capita', 'extreme_poverty', 'cardiovasc_death_rate',\n",
      "       'diabetes_prevalence', 'female_smokers', 'male_smokers',\n",
      "       'handwashing_facilities', 'hospital_beds_per_thousand',\n",
      "       'life_expectancy', 'human_development_index', 'year', 'month', 'day'],\n",
      "      dtype='object')\n"
     ]
    }
   ],
   "source": [
    "dt = data_test('/usr/src/covid_prediction/our-world-in-data-covid19-dataset/owid-covid-data.csv')\n",
    "x_train, x_test, y_train, y_test, scaler_y = dt.scaled_data()"
   ]
  },
  {
   "cell_type": "code",
   "execution_count": 7,
   "id": "a7febc06-acb8-473b-81df-85f13e82b874",
   "metadata": {},
   "outputs": [
    {
     "name": "stdout",
     "output_type": "stream",
     "text": [
      "Index(['total_cases', 'new_cases', 'total_deaths', 'new_deaths',\n",
      "       'reproduction_rate', 'total_tests', 'new_tests', 'positive_rate',\n",
      "       'tests_per_case', 'tests_units', 'total_vaccinations',\n",
      "       'people_vaccinated', 'people_fully_vaccinated', 'total_boosters',\n",
      "       'new_vaccinations', 'stringency_index', 'population',\n",
      "       'population_density', 'median_age', 'aged_65_older', 'aged_70_older',\n",
      "       'gdp_per_capita', 'extreme_poverty', 'cardiovasc_death_rate',\n",
      "       'diabetes_prevalence', 'female_smokers', 'male_smokers',\n",
      "       'handwashing_facilities', 'hospital_beds_per_thousand',\n",
      "       'life_expectancy', 'human_development_index', 'year', 'month', 'day'],\n",
      "      dtype='object')\n"
     ]
    },
    {
     "name": "stderr",
     "output_type": "stream",
     "text": [
      "/usr/src/covid_prediction/benchmark.py:48: DataConversionWarning: A column-vector y was passed when a 1d array was expected. Please change the shape of y to (n_samples,), for example using ravel().\n",
      "  self.model.fit(x_train, y_train)\n"
     ]
    }
   ],
   "source": [
    "trainer_rf = training(cfg, 'RandomForestRegressor')\n",
    "rf = trainer_rf.run()\n",
    "data['rf'] = rf.score(x_test, y_test)\n",
    "r2_scores.append(r2_score(y_test, rf.predict(x_test)))\n",
    "mae_scores.append(mean_absolute_error(y_test, rf.predict(x_test)))\n",
    "mse_scores.append(mean_squared_error(y_test, rf.predict(x_test)))"
   ]
  },
  {
   "cell_type": "code",
   "execution_count": 8,
   "id": "aa1e0dd7-51da-4333-8cb4-6509f3119d0c",
   "metadata": {},
   "outputs": [
    {
     "name": "stdout",
     "output_type": "stream",
     "text": [
      "Index(['total_cases', 'new_cases', 'total_deaths', 'new_deaths',\n",
      "       'reproduction_rate', 'total_tests', 'new_tests', 'positive_rate',\n",
      "       'tests_per_case', 'tests_units', 'total_vaccinations',\n",
      "       'people_vaccinated', 'people_fully_vaccinated', 'total_boosters',\n",
      "       'new_vaccinations', 'stringency_index', 'population',\n",
      "       'population_density', 'median_age', 'aged_65_older', 'aged_70_older',\n",
      "       'gdp_per_capita', 'extreme_poverty', 'cardiovasc_death_rate',\n",
      "       'diabetes_prevalence', 'female_smokers', 'male_smokers',\n",
      "       'handwashing_facilities', 'hospital_beds_per_thousand',\n",
      "       'life_expectancy', 'human_development_index', 'year', 'month', 'day'],\n",
      "      dtype='object')\n"
     ]
    },
    {
     "name": "stderr",
     "output_type": "stream",
     "text": [
      "/opt/conda/lib/python3.9/site-packages/sklearn/utils/validation.py:63: DataConversionWarning: A column-vector y was passed when a 1d array was expected. Please change the shape of y to (n_samples, ), for example using ravel().\n",
      "  return f(*args, **kwargs)\n"
     ]
    }
   ],
   "source": [
    "trainer_svr = training(cfg, 'SVR')\n",
    "svr = trainer_svr.run()\n",
    "data['svr'] = svr.score(x_test, y_test)\n",
    "r2_scores.append(r2_score(y_test, svr.predict(x_test)))\n",
    "mae_scores.append(mean_absolute_error(y_test, svr.predict(x_test)))\n",
    "mse_scores.append(mean_squared_error(y_test, svr.predict(x_test)))"
   ]
  },
  {
   "cell_type": "code",
   "execution_count": 9,
   "id": "b001150d-9e79-4d89-820e-b09afadfaff8",
   "metadata": {},
   "outputs": [
    {
     "name": "stdout",
     "output_type": "stream",
     "text": [
      "Index(['total_cases', 'new_cases', 'total_deaths', 'new_deaths',\n",
      "       'reproduction_rate', 'total_tests', 'new_tests', 'positive_rate',\n",
      "       'tests_per_case', 'tests_units', 'total_vaccinations',\n",
      "       'people_vaccinated', 'people_fully_vaccinated', 'total_boosters',\n",
      "       'new_vaccinations', 'stringency_index', 'population',\n",
      "       'population_density', 'median_age', 'aged_65_older', 'aged_70_older',\n",
      "       'gdp_per_capita', 'extreme_poverty', 'cardiovasc_death_rate',\n",
      "       'diabetes_prevalence', 'female_smokers', 'male_smokers',\n",
      "       'handwashing_facilities', 'hospital_beds_per_thousand',\n",
      "       'life_expectancy', 'human_development_index', 'year', 'month', 'day'],\n",
      "      dtype='object')\n"
     ]
    }
   ],
   "source": [
    "trainer_xgb = training(cfg, 'XG')\n",
    "xgb = trainer_xgb.run()\n",
    "data['xgb'] = xgb.score(x_test, y_test)\n",
    "r2_scores.append(r2_score(y_test, xgb.predict(x_test)))\n",
    "mae_scores.append(mean_absolute_error(y_test, xgb.predict(x_test)))\n",
    "mse_scores.append(mean_squared_error(y_test, xgb.predict(x_test)))"
   ]
  },
  {
   "cell_type": "code",
   "execution_count": 10,
   "id": "6ab4535e-cdab-4df9-b761-52e61db924ee",
   "metadata": {},
   "outputs": [
    {
     "name": "stdout",
     "output_type": "stream",
     "text": [
      "Index(['total_cases', 'new_cases', 'total_deaths', 'new_deaths',\n",
      "       'reproduction_rate', 'total_tests', 'new_tests', 'positive_rate',\n",
      "       'tests_per_case', 'tests_units', 'total_vaccinations',\n",
      "       'people_vaccinated', 'people_fully_vaccinated', 'total_boosters',\n",
      "       'new_vaccinations', 'stringency_index', 'population',\n",
      "       'population_density', 'median_age', 'aged_65_older', 'aged_70_older',\n",
      "       'gdp_per_capita', 'extreme_poverty', 'cardiovasc_death_rate',\n",
      "       'diabetes_prevalence', 'female_smokers', 'male_smokers',\n",
      "       'handwashing_facilities', 'hospital_beds_per_thousand',\n",
      "       'life_expectancy', 'human_development_index', 'year', 'month', 'day'],\n",
      "      dtype='object')\n"
     ]
    },
    {
     "name": "stderr",
     "output_type": "stream",
     "text": [
      "/opt/conda/lib/python3.9/site-packages/sklearn/utils/validation.py:63: DataConversionWarning: A column-vector y was passed when a 1d array was expected. Please change the shape of y to (n_samples, ), for example using ravel().\n",
      "  return f(*args, **kwargs)\n"
     ]
    }
   ],
   "source": [
    "trainer_gbr = training(cfg, 'GBR')\n",
    "gbr = trainer_gbr.run()\n",
    "data['gbr'] = gbr.score(x_test, y_test)\n",
    "r2_scores.append(r2_score(y_test, gbr.predict(x_test)))\n",
    "mae_scores.append(mean_absolute_error(y_test, gbr.predict(x_test)))\n",
    "mse_scores.append(mean_squared_error(y_test, gbr.predict(x_test)))"
   ]
  },
  {
   "cell_type": "code",
   "execution_count": 11,
   "id": "194156e9-4a06-4c19-9812-82663624bfaa",
   "metadata": {},
   "outputs": [],
   "source": [
    "df = pd.DataFrame(\n",
    "    {\n",
    "        'model' : list(data.keys()),\n",
    "        'score' : list(data.values()),\n",
    "        'r2' : r2_scores,\n",
    "        'mae': mae_scores,\n",
    "        'mse': mse_scores\n",
    "    }\n",
    ")"
   ]
  },
  {
   "cell_type": "code",
   "execution_count": 12,
   "id": "435157fb-025f-46fa-a983-903466ea5af7",
   "metadata": {},
   "outputs": [],
   "source": [
    "df = df.sort_values(by=['score'], ascending=False)\n",
    "df = df.reset_index()"
   ]
  },
  {
   "cell_type": "code",
   "execution_count": 13,
   "id": "28197892-e26c-4196-95b8-8c4d3180e3d8",
   "metadata": {},
   "outputs": [
    {
     "data": {
      "text/plain": [
       "<AxesSubplot:xlabel='model', ylabel='score'>"
      ]
     },
     "execution_count": 13,
     "metadata": {},
     "output_type": "execute_result"
    },
    {
     "data": {
      "image/png": "[encoded data removed]",
      "text/plain": [
       "<Figure size 432x288 with 1 Axes>"
      ]
     },
     "metadata": {
      "needs_background": "light"
     },
     "output_type": "display_data"
    }
   ],
   "source": [
    "sns.set(rc={'figure.figsize':(15.7,10.27)})\n",
    "sns.barplot(x='model', y='score', data=df)"
   ]
  },
  {
   "cell_type": "code",
   "execution_count": 14,
   "id": "53123ebc-afb7-4b00-8277-72f094e034ed",
   "metadata": {},
   "outputs": [
    {
     "data": {
      "text/html": [
       "<div>\n",
       "<style scoped>\n",
       "    .dataframe tbody tr th:only-of-type {\n",
       "        vertical-align: middle;\n",
       "    }\n",
       "\n",
       "    .dataframe tbody tr th {\n",
       "        vertical-align: top;\n",
       "    }\n",
       "\n",
       "    .dataframe thead th {\n",
       "        text-align: right;\n",
       "    }\n",
       "</style>\n",
       "<table border=\"1\" class=\"dataframe\">\n",
       "  <thead>\n",
       "    <tr style=\"text-align: right;\">\n",
       "      <th></th>\n",
       "      <th>index</th>\n",
       "      <th>model</th>\n",
       "      <th>score</th>\n",
       "      <th>r2</th>\n",
       "      <th>mae</th>\n",
       "      <th>mse</th>\n",
       "    </tr>\n",
       "  </thead>\n",
       "  <tbody>\n",
       "    <tr>\n",
       "      <th>0</th>\n",
       "      <td>0</td>\n",
       "      <td>rf</td>\n",
       "      <td>0.959048</td>\n",
       "      <td>0.959048</td>\n",
       "      <td>0.096578</td>\n",
       "      <td>0.039400</td>\n",
       "    </tr>\n",
       "    <tr>\n",
       "      <th>1</th>\n",
       "      <td>2</td>\n",
       "      <td>xgb</td>\n",
       "      <td>0.940920</td>\n",
       "      <td>0.940920</td>\n",
       "      <td>0.108108</td>\n",
       "      <td>0.056840</td>\n",
       "    </tr>\n",
       "    <tr>\n",
       "      <th>2</th>\n",
       "      <td>3</td>\n",
       "      <td>gbr</td>\n",
       "      <td>0.937801</td>\n",
       "      <td>0.937801</td>\n",
       "      <td>0.114328</td>\n",
       "      <td>0.059841</td>\n",
       "    </tr>\n",
       "    <tr>\n",
       "      <th>3</th>\n",
       "      <td>1</td>\n",
       "      <td>svr</td>\n",
       "      <td>0.920549</td>\n",
       "      <td>0.920549</td>\n",
       "      <td>0.150277</td>\n",
       "      <td>0.076439</td>\n",
       "    </tr>\n",
       "  </tbody>\n",
       "</table>\n",
       "</div>"
      ],
      "text/plain": [
       "   index model     score        r2       mae       mse\n",
       "0      0    rf  0.959048  0.959048  0.096578  0.039400\n",
       "1      2   xgb  0.940920  0.940920  0.108108  0.056840\n",
       "2      3   gbr  0.937801  0.937801  0.114328  0.059841\n",
       "3      1   svr  0.920549  0.920549  0.150277  0.076439"
      ]
     },
     "execution_count": 14,
     "metadata": {},
     "output_type": "execute_result"
    }
   ],
   "source": [
    "df"
   ]
  },
  {
   "cell_type": "code",
   "execution_count": 21,
   "id": "3f95e3a1-81a0-4c2c-9c1e-1f9a4adf7a65",
   "metadata": {},
   "outputs": [
    {
     "data": {
      "image/png": "[encoded data removed]",
      "text/plain": [
       "<Figure size 432x288 with 1 Axes>"
      ]
     },
     "metadata": {
      "needs_background": "light"
     },
     "output_type": "display_data"
    }
   ],
   "source": [
    "def linesplot(df):\n",
    "    model_set = set(df['model'])\n",
    "    plt.figure()\n",
    "    for model in model_set:\n",
    "        selected_data = df.loc[df['model'] == model]\n",
    "        plt.plot(selected_data['score'], selected_data['r2'], selected_data['mae'], selected_data['mse'], label=model)\n",
    "    plt.legend()\n",
    "    plt.show()\n",
    "    \n",
    "linesplot(df)"
   ]
  },
  {
   "cell_type": "code",
   "execution_count": null,
   "id": "af04626a-ebfa-4952-a303-1c5d21e211c6",
   "metadata": {},
   "outputs": [],
   "source": []
  }
 ],
 "metadata": {
  "kernelspec": {
   "display_name": "Python 3",
   "language": "python",
   "name": "python3"
  },
  "language_info": {
   "codemirror_mode": {
    "name": "ipython",
    "version": 3
   },
   "file_extension": ".py",
   "mimetype": "text/x-python",
   "name": "python",
   "nbconvert_exporter": "python",
   "pygments_lexer": "ipython3",
   "version": "3.9.13"
  }
 },
 "nbformat": 4,
 "nbformat_minor": 5
}
